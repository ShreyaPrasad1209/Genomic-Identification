{
  "nbformat": 4,
  "nbformat_minor": 0,
  "metadata": {
    "colab": {
      "name": "DNA Population.ipynb",
      "version": "0.3.2",
      "provenance": []
    },
    "kernelspec": {
      "name": "python3",
      "display_name": "Python 3"
    },
    "accelerator": "GPU"
  },
  "cells": [
    {
      "cell_type": "code",
      "metadata": {
        "id": "XVGyQ0r3ksFn",
        "colab_type": "code",
        "colab": {}
      },
      "source": [
        "import pandas as pd\n",
        "  "
      ],
      "execution_count": 0,
      "outputs": []
    },
    {
      "cell_type": "code",
      "metadata": {
        "id": "78UAsAJfk0n3",
        "colab_type": "code",
        "colab": {}
      },
      "source": [
        "#sequence_file = open(\"sequences.txt\",\"r\")\n",
        "#sequences_list = sequence_file.read().split('\\n')\n",
        "sequences_list = list(filter(None, sequences_list))\n",
        "population_df = pd.DataFrame({'Protein_seq' : pd.Series(sequences_list).values})\n",
        "demographic_loc_opt = ['asia', 'africa', 'europe', 'latin america', 'north america', 'oceania']\n",
        "demographic_loc_dist = [0.594, 0.171, 0.096, 0.085, 0.048, 0.005]\n",
        "from random import choices\n",
        "demographic_loc_list = list()\n",
        "for count in range(0,len(sequences_list)):\n",
        "    demographic_loc_list.append(choices(demographic_loc_opt,demographic_loc_dist).pop())\n",
        "population_df['Demographic_loc'] = demographic_loc_list\n",
        "population_df['Parents'] = None"
      ],
      "execution_count": 0,
      "outputs": []
    },
    {
      "cell_type": "code",
      "metadata": {
        "id": "fH_W27moDcWO",
        "colab_type": "code",
        "outputId": "984b5afa-116e-47ae-9258-6375adff4262",
        "colab": {
          "base_uri": "https://localhost:8080/",
          "height": 306
        }
      },
      "source": [
        "#Initial population\n",
        "print(population_df.info())\n",
        "print(population_df.head())\n",
        "population_df['Demographic_loc'].unique()"
      ],
      "execution_count": 0,
      "outputs": [
        {
          "output_type": "stream",
          "text": [
            "<class 'pandas.core.frame.DataFrame'>\n",
            "RangeIndex: 2000 entries, 0 to 1999\n",
            "Data columns (total 3 columns):\n",
            "Protein_seq        2000 non-null object\n",
            "Demographic_loc    2000 non-null object\n",
            "Parents            0 non-null object\n",
            "dtypes: object(3)\n",
            "memory usage: 47.0+ KB\n",
            "None\n",
            "                                         Protein_seq Demographic_loc Parents\n",
            "0  CCGAGGGCTATGGTTTGGAAGTTAGAACCCTGGGGCTTCTCGCGGA...            asia    None\n",
            "1  GAGTTTATATGGCGCGAGCCTAGTGGTTTTTGTACTTGTTTGTCGC...            asia    None\n",
            "2  GATCAGTAGGGAAACAAACAGAGGGCCCAGCCACATCTAGCAGGTA...            asia    None\n",
            "3  GTCCACGACCGAACTCCCACCTTGACCGCAGAGGTACCACCAGAGC...          europe    None\n",
            "4  GGCGACCGAACTCCAACTAGAACCTGCATAACTGGCCTGGGAGATA...            asia    None\n"
          ],
          "name": "stdout"
        },
        {
          "output_type": "execute_result",
          "data": {
            "text/plain": [
              "array(['asia', 'europe', 'north america', 'africa', 'latin america',\n",
              "       'oceania'], dtype=object)"
            ]
          },
          "metadata": {
            "tags": []
          },
          "execution_count": 3
        }
      ]
    },
    {
      "cell_type": "code",
      "metadata": {
        "id": "BDHgGaPnEKpr",
        "colab_type": "code",
        "outputId": "bcff9058-4aa6-4c7d-ec94-6cbc3934e3b9",
        "colab": {
          "base_uri": "https://localhost:8080/",
          "height": 139
        }
      },
      "source": [
        "!pip install biopython"
      ],
      "execution_count": 0,
      "outputs": [
        {
          "output_type": "stream",
          "text": [
            "Collecting biopython\n",
            "\u001b[?25l  Downloading https://files.pythonhosted.org/packages/28/15/8ac646ff24cfa2588b4d5e5ea51e8d13f3d35806bd9498fbf40ef79026fd/biopython-1.73-cp36-cp36m-manylinux1_x86_64.whl (2.2MB)\n",
            "\u001b[K     |████████████████████████████████| 2.2MB 2.8MB/s \n",
            "\u001b[?25hRequirement already satisfied: numpy in /usr/local/lib/python3.6/dist-packages (from biopython) (1.16.4)\n",
            "Installing collected packages: biopython\n",
            "Successfully installed biopython-1.73\n"
          ],
          "name": "stdout"
        }
      ]
    },
    {
      "cell_type": "code",
      "metadata": {
        "id": "5Lh0SJbmDdu8",
        "colab_type": "code",
        "outputId": "71d800ef-e4c2-4504-ab4a-2c8602c53ed6",
        "colab": {
          "base_uri": "https://localhost:8080/",
          "height": 54
        }
      },
      "source": [
        "from Bio import pairwise2\n",
        "from Bio.pairwise2 import format_alignment\n",
        "\n",
        "X = population_df['Protein_seq'].tolist()[0]\n",
        "Y = population_df['Protein_seq'].tolist()[1]\n",
        "\n",
        "alignments = pairwise2.align.globalms(X, Y, 2, -1, -0.5, -0.1)\n",
        "print(alignments)"
      ],
      "execution_count": 0,
      "outputs": [
        {
          "output_type": "stream",
          "text": [
            "[('CCGAG-------GG-------CTA-TGGTTTGGAAGTTAG-AACCCT-GGGGCTTC--TCGCG--GACACC', '--GAGTTTATATGGCGCGAGCCTAGTGGTTT-----TT-GTA---CTTG----TT-TGTCGCGTCG-----', 48.19999999999998, 0, 71), ('CCGAG-------GGC-------TA-TGGTTTGGAAGTTAG-AACCCT-GGGGCTTC--TCGCG--GACACC', '--GAGTTTATATGGCGCGAGCCTAGTGGTTT-----TT-GTA---CTTG----TT-TGTCGCGTCG-----', 48.19999999999998, 0, 71), ('CCGAG-------GG-------CTA-TGGTTTGGAAGTTAG-AACCC-TGGGGCTTC--TCGCG--GACACC', '--GAGTTTATATGGCGCGAGCCTAGTGGTTT-----TT-GTA---CTTG----TT-TGTCGCGTCG-----', 48.19999999999998, 0, 71), ('CCGAG-------GGC-------TA-TGGTTTGGAAGTTAG-AACCC-TGGGGCTTC--TCGCG--GACACC', '--GAGTTTATATGGCGCGAGCCTAGTGGTTT-----TT-GTA---CTTG----TT-TGTCGCGTCG-----', 48.19999999999998, 0, 71), ('CCGAG-------GG-------CTA-TGGTTTGGAAGTTAG-AACCCT-GGGGCTTCT--CGCG--GACACC', '--GAGTTTATATGGCGCGAGCCTAGTGGTTT-----TT-GTA---CTTG----TT-TGTCGCGTCG-----', 48.19999999999998, 0, 71), ('CCGAG-------GGC-------TA-TGGTTTGGAAGTTAG-AACCCT-GGGGCTTCT--CGCG--GACACC', '--GAGTTTATATGGCGCGAGCCTAGTGGTTT-----TT-GTA---CTTG----TT-TGTCGCGTCG-----', 48.19999999999998, 0, 71), ('CCGAG-------GG-------CTA-TGGTTTGGAAGTTAG-AACCC-TGGGGCTTCT--CGCG--GACACC', '--GAGTTTATATGGCGCGAGCCTAGTGGTTT-----TT-GTA---CTTG----TT-TGTCGCGTCG-----', 48.19999999999998, 0, 71), ('CCGAG-------GGC-------TA-TGGTTTGGAAGTTAG-AACCC-TGGGGCTTCT--CGCG--GACACC', '--GAGTTTATATGGCGCGAGCCTAGTGGTTT-----TT-GTA---CTTG----TT-TGTCGCGTCG-----', 48.19999999999998, 0, 71)]\n"
          ],
          "name": "stdout"
        }
      ]
    },
    {
      "cell_type": "code",
      "metadata": {
        "id": "eu-zidmPDfU1",
        "colab_type": "code",
        "outputId": "59c6f87a-bf09-46c0-865e-39171747f65a",
        "colab": {
          "base_uri": "https://localhost:8080/",
          "height": 187
        }
      },
      "source": [
        "import numpy as np\n",
        "from sklearn.preprocessing import LabelEncoder, OneHotEncoder\n",
        "\n",
        "# The LabelEncoder encodes a sequence of bases as a sequence of integers.\n",
        "integer_encoder = LabelEncoder()  \n",
        "# The OneHotEncoder converts an array of integers to a sparse matrix where \n",
        "# each row corresponds to one possible value of each feature.\n",
        "one_hot_encoder = OneHotEncoder(categories='auto')   \n",
        "input_features = []\n",
        "\n",
        "for sequence in sequences_list:\n",
        "  integer_encoded = integer_encoder.fit_transform(list(sequence))\n",
        "  integer_encoded = np.array(integer_encoded).reshape(-1, 1)\n",
        "  one_hot_encoded = one_hot_encoder.fit_transform(integer_encoded)\n",
        "  input_features.append(one_hot_encoded.toarray())\n",
        "\n",
        "print(sequences_list[0])\n",
        "np.set_printoptions(threshold=40)\n",
        "input_features = np.stack(input_features)\n",
        "print(\"Example sequence\\n-----------------------\")\n",
        "print('DNA Sequence #1:\\n',sequences_list[0][:10],'...',sequences_list[0][-10:])\n",
        "print('One hot encoding of Sequence #1:\\n',input_features[2].T)"
      ],
      "execution_count": 0,
      "outputs": [
        {
          "output_type": "stream",
          "text": [
            "CCGAGGGCTATGGTTTGGAAGTTAGAACCCTGGGGCTTCTCGCGGACACC\n",
            "Example sequence\n",
            "-----------------------\n",
            "DNA Sequence #1:\n",
            " CCGAGGGCTA ... CGCGGACACC\n",
            "One hot encoding of Sequence #1:\n",
            " [[0. 1. 0. ... 0. 0. 0.]\n",
            " [0. 0. 0. ... 1. 1. 0.]\n",
            " [1. 0. 0. ... 0. 0. 0.]\n",
            " [0. 0. 1. ... 0. 0. 1.]]\n"
          ],
          "name": "stdout"
        }
      ]
    },
    {
      "cell_type": "code",
      "metadata": {
        "id": "MRQnFRhvDh1M",
        "colab_type": "code",
        "outputId": "3d461ce7-bebe-44af-b524-fdc72773eb66",
        "colab": {
          "base_uri": "https://localhost:8080/",
          "height": 102
        }
      },
      "source": [
        "\n",
        "labels = requests.get(LABELS_URL).text.split('\\n')\n",
        "labels = list(filter(None, labels))\n",
        "population_df['Labels'] = labels\n",
        "one_hot_encoder = OneHotEncoder(categories='auto')\n",
        "labels = np.array(labels).reshape(-1, 1)\n",
        "input_labels = one_hot_encoder.fit_transform(labels).toarray()\n",
        "\n",
        "print('Labels:\\n',labels.T)\n",
        "print('One-hot encoded labels:\\n',input_labels.T)"
      ],
      "execution_count": 0,
      "outputs": [
        {
          "output_type": "stream",
          "text": [
            "Labels:\n",
            " [['0' '0' '0' ... '0' '1' '1']]\n",
            "One-hot encoded labels:\n",
            " [[1. 1. 1. ... 1. 0. 0.]\n",
            " [0. 0. 0. ... 0. 1. 1.]]\n"
          ],
          "name": "stdout"
        }
      ]
    },
    {
      "cell_type": "code",
      "metadata": {
        "id": "PkAmQifxEZS8",
        "colab_type": "code",
        "colab": {}
      },
      "source": [
        "from sklearn.model_selection import train_test_split\n",
        "\n",
        "train_features, test_features, train_labels, test_labels = train_test_split(\n",
        "    input_features, input_labels, test_size=0.25, random_state=42)"
      ],
      "execution_count": 0,
      "outputs": []
    },
    {
      "cell_type": "code",
      "metadata": {
        "id": "1dtnN8T8-cdb",
        "colab_type": "code",
        "outputId": "a793cbe5-4a94-4827-954e-d0cd21840308",
        "colab": {
          "base_uri": "https://localhost:8080/",
          "height": 850
        }
      },
      "source": [
        "print(test_features)"
      ],
      "execution_count": 0,
      "outputs": [
        {
          "output_type": "stream",
          "text": [
            "[[[0. 0. 1. 0.]\n",
            "  [0. 0. 1. 0.]\n",
            "  [0. 0. 1. 0.]\n",
            "  ...\n",
            "  [1. 0. 0. 0.]\n",
            "  [1. 0. 0. 0.]\n",
            "  [1. 0. 0. 0.]]\n",
            "\n",
            " [[0. 1. 0. 0.]\n",
            "  [0. 1. 0. 0.]\n",
            "  [1. 0. 0. 0.]\n",
            "  ...\n",
            "  [1. 0. 0. 0.]\n",
            "  [1. 0. 0. 0.]\n",
            "  [0. 0. 0. 1.]]\n",
            "\n",
            " [[0. 0. 0. 1.]\n",
            "  [0. 1. 0. 0.]\n",
            "  [0. 1. 0. 0.]\n",
            "  ...\n",
            "  [0. 1. 0. 0.]\n",
            "  [0. 0. 0. 1.]\n",
            "  [1. 0. 0. 0.]]\n",
            "\n",
            " ...\n",
            "\n",
            " [[1. 0. 0. 0.]\n",
            "  [0. 0. 1. 0.]\n",
            "  [0. 0. 0. 1.]\n",
            "  ...\n",
            "  [0. 0. 0. 1.]\n",
            "  [0. 0. 1. 0.]\n",
            "  [0. 0. 0. 1.]]\n",
            "\n",
            " [[0. 0. 1. 0.]\n",
            "  [1. 0. 0. 0.]\n",
            "  [0. 0. 0. 1.]\n",
            "  ...\n",
            "  [0. 0. 0. 1.]\n",
            "  [1. 0. 0. 0.]\n",
            "  [0. 0. 0. 1.]]\n",
            "\n",
            " [[0. 0. 1. 0.]\n",
            "  [0. 0. 1. 0.]\n",
            "  [1. 0. 0. 0.]\n",
            "  ...\n",
            "  [0. 0. 1. 0.]\n",
            "  [0. 1. 0. 0.]\n",
            "  [0. 0. 1. 0.]]]\n"
          ],
          "name": "stdout"
        }
      ]
    },
    {
      "cell_type": "code",
      "metadata": {
        "id": "x1TqpifcEbSF",
        "colab_type": "code",
        "outputId": "7a8cbe19-ab99-4537-ca62-1b3c00152426",
        "colab": {
          "base_uri": "https://localhost:8080/",
          "height": 306
        }
      },
      "source": [
        "from tensorflow.keras.layers import Conv1D, Dense, MaxPooling1D, Flatten\n",
        "from tensorflow.keras.models import Sequential\n",
        "\n",
        "model = Sequential()\n",
        "model.add(Conv1D(filters=32, kernel_size=12, \n",
        "                 input_shape=(train_features.shape[1], 4)))\n",
        "model.add(MaxPooling1D(pool_size=4))\n",
        "model.add(Flatten())\n",
        "model.add(Dense(16, activation='relu'))\n",
        "model.add(Dense(2, activation='softmax'))\n",
        "\n",
        "model.compile(loss='binary_crossentropy', optimizer='adam', \n",
        "              metrics=['binary_accuracy'])\n",
        "model.summary()"
      ],
      "execution_count": 0,
      "outputs": [
        {
          "output_type": "stream",
          "text": [
            "_________________________________________________________________\n",
            "Layer (type)                 Output Shape              Param #   \n",
            "=================================================================\n",
            "conv1d_1 (Conv1D)            (None, 39, 32)            1568      \n",
            "_________________________________________________________________\n",
            "max_pooling1d_1 (MaxPooling1 (None, 9, 32)             0         \n",
            "_________________________________________________________________\n",
            "flatten_1 (Flatten)          (None, 288)               0         \n",
            "_________________________________________________________________\n",
            "dense_2 (Dense)              (None, 16)                4624      \n",
            "_________________________________________________________________\n",
            "dense_3 (Dense)              (None, 2)                 34        \n",
            "=================================================================\n",
            "Total params: 6,226\n",
            "Trainable params: 6,226\n",
            "Non-trainable params: 0\n",
            "_________________________________________________________________\n"
          ],
          "name": "stdout"
        }
      ]
    },
    {
      "cell_type": "code",
      "metadata": {
        "id": "IMa4gjTnEcjm",
        "colab_type": "code",
        "outputId": "5f92f616-d604-4379-da65-105eb6795db8",
        "colab": {
          "base_uri": "https://localhost:8080/",
          "height": 295
        }
      },
      "source": [
        "import matplotlib.pyplot as plt\n",
        "history = model.fit(train_features, train_labels, \n",
        "                    epochs=50, verbose=0, validation_split=0.25)\n",
        "\n",
        "plt.figure()\n",
        "plt.plot(history.history['loss'])\n",
        "plt.plot(history.history['val_loss'])\n",
        "plt.title('model loss')\n",
        "plt.ylabel('loss')\n",
        "plt.xlabel('epoch')\n",
        "plt.legend(['train', 'validation'])\n",
        "plt.show()"
      ],
      "execution_count": 0,
      "outputs": [
        {
          "output_type": "display_data",
          "data": {
            "image/png": "[encoded data removed]",
            "text/plain": [
              "<Figure size 432x288 with 1 Axes>"
            ]
          },
          "metadata": {
            "tags": []
          }
        }
      ]
    },
    {
      "cell_type": "code",
      "metadata": {
        "id": "BWM90R4aEi85",
        "colab_type": "code",
        "outputId": "034a3f5b-eb9d-4335-8c51-ff6bd510a576",
        "colab": {
          "base_uri": "https://localhost:8080/",
          "height": 295
        }
      },
      "source": [
        "plt.figure()\n",
        "plt.plot(history.history['binary_accuracy'])\n",
        "plt.plot(history.history['val_binary_accuracy'])\n",
        "plt.title('model accuracy')\n",
        "plt.ylabel('accuracy')\n",
        "plt.xlabel('epoch')\n",
        "plt.legend(['train', 'validation'])\n",
        "plt.show()"
      ],
      "execution_count": 0,
      "outputs": [
        {
          "output_type": "display_data",
          "data": {
            "image/png": "[encoded data removed]",
            "text/plain": [
              "<Figure size 432x288 with 1 Axes>"
            ]
          },
          "metadata": {
            "tags": []
          }
        }
      ]
    },
    {
      "cell_type": "code",
      "metadata": {
        "id": "jEz3XE4Qzf_1",
        "colab_type": "code",
        "colab": {}
      },
      "source": [
        "import itertools\n",
        "\n",
        "def child_seq(parent_seq, proteins, mutations):\n",
        "    for locs in itertools.combinations(range(len(parent_seq)), mutations):\n",
        "        this_parent_seq = [[gene] for gene in parent_seq]\n",
        "        for loc in locs:\n",
        "            orig_gene = parent_seq[loc]\n",
        "            this_parent_seq[loc] = [l for l in proteins if l != orig_gene]\n",
        "        for poss in itertools.product(*this_parent_seq):\n",
        "            yield ''.join(poss)\n",
        "\n",
        "import random\n",
        "\n",
        "def mutate_v1(dna):\n",
        "    dna_list = list(dna)\n",
        "    mutation_site = random.randint(0, len(dna_list) - 1)\n",
        "    dna_list[mutation_site] = random.choice(list('ATCG'))\n",
        "    return ''.join(dna_list)\n",
        "def get_base_frequencies_v2(dna):\n",
        "        return {base: dna.count(base)/float(len(dna))\n",
        "                for base in 'ATGC'}\n",
        "def format_frequencies(frequencies):\n",
        "    return ', '.join(['%s: %.2f' % (base, frequencies[base])\n",
        "                      for base in frequencies])"
      ],
      "execution_count": 0,
      "outputs": []
    },
    {
      "cell_type": "code",
      "metadata": {
        "id": "xgNnOFaTzgDP",
        "colab_type": "code",
        "outputId": "c0693d9c-a50d-4cb3-a8b0-35730a10ac88",
        "colab": {
          "base_uri": "https://localhost:8080/",
          "height": 394
        }
      },
      "source": [
        "child_df = pd.DataFrame()\n",
        "for index, row in population_df.iterrows():\n",
        "    dna = row['Protein_seq']\n",
        "    nmutations = 10000\n",
        "    for i in range(nmutations):\n",
        "        dna = mutate_v1(dna)\n",
        "    demographic_loc_opt = ['asia', 'africa', 'europe', 'latin america', 'north america', 'oceania']\n",
        "    demographic_loc_dist = [0.594, 0.171, 0.096, 0.085, 0.048, 0.005]\n",
        "    demographic_loc = choices(demographic_loc_opt,demographic_loc_dist).pop()\n",
        "    child_df = child_df.append({'Protein_seq': dna, 'Demographic_loc':demographic_loc, 'Parents':index}, ignore_index=True)\n",
        "predicted_labels = model.predict(np.stack(child_df['Protein_seq'].tolist()))\n",
        "child_df['Labels'] = predicted_labels\n",
        "\n",
        "\n",
        "\n"
      ],
      "execution_count": 0,
      "outputs": [
        {
          "output_type": "error",
          "ename": "ValueError",
          "evalue": "ignored",
          "traceback": [
            "\u001b[0;31m---------------------------------------------------------------------------\u001b[0m",
            "\u001b[0;31mValueError\u001b[0m                                Traceback (most recent call last)",
            "\u001b[0;32m<ipython-input-29-a16a3e97dc3b>\u001b[0m in \u001b[0;36m<module>\u001b[0;34m()\u001b[0m\n\u001b[1;32m      9\u001b[0m     \u001b[0mdemographic_loc\u001b[0m \u001b[0;34m=\u001b[0m \u001b[0mchoices\u001b[0m\u001b[0;34m(\u001b[0m\u001b[0mdemographic_loc_opt\u001b[0m\u001b[0;34m,\u001b[0m\u001b[0mdemographic_loc_dist\u001b[0m\u001b[0;34m)\u001b[0m\u001b[0;34m.\u001b[0m\u001b[0mpop\u001b[0m\u001b[0;34m(\u001b[0m\u001b[0;34m)\u001b[0m\u001b[0;34m\u001b[0m\u001b[0;34m\u001b[0m\u001b[0m\n\u001b[1;32m     10\u001b[0m     \u001b[0mchild_df\u001b[0m \u001b[0;34m=\u001b[0m \u001b[0mchild_df\u001b[0m\u001b[0;34m.\u001b[0m\u001b[0mappend\u001b[0m\u001b[0;34m(\u001b[0m\u001b[0;34m{\u001b[0m\u001b[0;34m'Protein_seq'\u001b[0m\u001b[0;34m:\u001b[0m \u001b[0mdna\u001b[0m\u001b[0;34m,\u001b[0m \u001b[0;34m'Demographic_loc'\u001b[0m\u001b[0;34m:\u001b[0m\u001b[0mdemographic_loc\u001b[0m\u001b[0;34m,\u001b[0m \u001b[0;34m'Parents'\u001b[0m\u001b[0;34m:\u001b[0m\u001b[0mindex\u001b[0m\u001b[0;34m}\u001b[0m\u001b[0;34m,\u001b[0m \u001b[0mignore_index\u001b[0m\u001b[0;34m=\u001b[0m\u001b[0;32mTrue\u001b[0m\u001b[0;34m)\u001b[0m\u001b[0;34m\u001b[0m\u001b[0;34m\u001b[0m\u001b[0m\n\u001b[0;32m---> 11\u001b[0;31m \u001b[0mpredicted_labels\u001b[0m \u001b[0;34m=\u001b[0m \u001b[0mmodel\u001b[0m\u001b[0;34m.\u001b[0m\u001b[0mpredict\u001b[0m\u001b[0;34m(\u001b[0m\u001b[0mnp\u001b[0m\u001b[0;34m.\u001b[0m\u001b[0mstack\u001b[0m\u001b[0;34m(\u001b[0m\u001b[0mchild_df\u001b[0m\u001b[0;34m[\u001b[0m\u001b[0;34m'Protein_seq'\u001b[0m\u001b[0;34m]\u001b[0m\u001b[0;34m.\u001b[0m\u001b[0mtolist\u001b[0m\u001b[0;34m(\u001b[0m\u001b[0;34m)\u001b[0m\u001b[0;34m)\u001b[0m\u001b[0;34m)\u001b[0m\u001b[0;34m\u001b[0m\u001b[0;34m\u001b[0m\u001b[0m\n\u001b[0m\u001b[1;32m     12\u001b[0m \u001b[0mchild_df\u001b[0m\u001b[0;34m[\u001b[0m\u001b[0;34m'Labels'\u001b[0m\u001b[0;34m]\u001b[0m \u001b[0;34m=\u001b[0m \u001b[0mpredicted_labels\u001b[0m\u001b[0;34m\u001b[0m\u001b[0;34m\u001b[0m\u001b[0m\n\u001b[1;32m     13\u001b[0m \u001b[0;34m\u001b[0m\u001b[0m\n",
            "\u001b[0;32m/usr/local/lib/python3.6/dist-packages/tensorflow/python/keras/engine/training.py\u001b[0m in \u001b[0;36mpredict\u001b[0;34m(self, x, batch_size, verbose, steps, max_queue_size, workers, use_multiprocessing)\u001b[0m\n\u001b[1;32m   1094\u001b[0m       \u001b[0;31m# batch size.\u001b[0m\u001b[0;34m\u001b[0m\u001b[0;34m\u001b[0m\u001b[0;34m\u001b[0m\u001b[0m\n\u001b[1;32m   1095\u001b[0m       x, _, _ = self._standardize_user_data(\n\u001b[0;32m-> 1096\u001b[0;31m           x, check_steps=True, steps_name='steps', steps=steps)\n\u001b[0m\u001b[1;32m   1097\u001b[0m \u001b[0;34m\u001b[0m\u001b[0m\n\u001b[1;32m   1098\u001b[0m     if (self.run_eagerly or (isinstance(x, iterator_ops.EagerIterator) and\n",
            "\u001b[0;32m/usr/local/lib/python3.6/dist-packages/tensorflow/python/keras/engine/training.py\u001b[0m in \u001b[0;36m_standardize_user_data\u001b[0;34m(self, x, y, sample_weight, class_weight, batch_size, check_steps, steps_name, steps, validation_split, shuffle)\u001b[0m\n\u001b[1;32m   2380\u001b[0m         \u001b[0mfeed_input_shapes\u001b[0m\u001b[0;34m,\u001b[0m\u001b[0;34m\u001b[0m\u001b[0;34m\u001b[0m\u001b[0m\n\u001b[1;32m   2381\u001b[0m         \u001b[0mcheck_batch_axis\u001b[0m\u001b[0;34m=\u001b[0m\u001b[0;32mFalse\u001b[0m\u001b[0;34m,\u001b[0m  \u001b[0;31m# Don't enforce the batch size.\u001b[0m\u001b[0;34m\u001b[0m\u001b[0;34m\u001b[0m\u001b[0m\n\u001b[0;32m-> 2382\u001b[0;31m         exception_prefix='input')\n\u001b[0m\u001b[1;32m   2383\u001b[0m \u001b[0;34m\u001b[0m\u001b[0m\n\u001b[1;32m   2384\u001b[0m     \u001b[0;32mif\u001b[0m \u001b[0my\u001b[0m \u001b[0;32mis\u001b[0m \u001b[0;32mnot\u001b[0m \u001b[0;32mNone\u001b[0m\u001b[0;34m:\u001b[0m\u001b[0;34m\u001b[0m\u001b[0;34m\u001b[0m\u001b[0m\n",
            "\u001b[0;32m/usr/local/lib/python3.6/dist-packages/tensorflow/python/keras/engine/training_utils.py\u001b[0m in \u001b[0;36mstandardize_input_data\u001b[0;34m(data, names, shapes, check_batch_axis, exception_prefix)\u001b[0m\n\u001b[1;32m    351\u001b[0m                            \u001b[0;34m': expected '\u001b[0m \u001b[0;34m+\u001b[0m \u001b[0mnames\u001b[0m\u001b[0;34m[\u001b[0m\u001b[0mi\u001b[0m\u001b[0;34m]\u001b[0m \u001b[0;34m+\u001b[0m \u001b[0;34m' to have '\u001b[0m \u001b[0;34m+\u001b[0m\u001b[0;34m\u001b[0m\u001b[0;34m\u001b[0m\u001b[0m\n\u001b[1;32m    352\u001b[0m                            \u001b[0mstr\u001b[0m\u001b[0;34m(\u001b[0m\u001b[0mlen\u001b[0m\u001b[0;34m(\u001b[0m\u001b[0mshape\u001b[0m\u001b[0;34m)\u001b[0m\u001b[0;34m)\u001b[0m \u001b[0;34m+\u001b[0m \u001b[0;34m' dimensions, but got array '\u001b[0m\u001b[0;34m\u001b[0m\u001b[0;34m\u001b[0m\u001b[0m\n\u001b[0;32m--> 353\u001b[0;31m                            'with shape ' + str(data_shape))\n\u001b[0m\u001b[1;32m    354\u001b[0m         \u001b[0;32mif\u001b[0m \u001b[0;32mnot\u001b[0m \u001b[0mcheck_batch_axis\u001b[0m\u001b[0;34m:\u001b[0m\u001b[0;34m\u001b[0m\u001b[0;34m\u001b[0m\u001b[0m\n\u001b[1;32m    355\u001b[0m           \u001b[0mdata_shape\u001b[0m \u001b[0;34m=\u001b[0m \u001b[0mdata_shape\u001b[0m\u001b[0;34m[\u001b[0m\u001b[0;36m1\u001b[0m\u001b[0;34m:\u001b[0m\u001b[0;34m]\u001b[0m\u001b[0;34m\u001b[0m\u001b[0;34m\u001b[0m\u001b[0m\n",
            "\u001b[0;31mValueError\u001b[0m: Error when checking input: expected conv1d_1_input to have 3 dimensions, but got array with shape (2000, 1)"
          ]
        }
      ]
    },
    {
      "cell_type": "code",
      "metadata": {
        "id": "1pVb-Zef4532",
        "colab_type": "code",
        "colab": {}
      },
      "source": [
        "population_df.append(child_df, ignore_index = True)\n"
      ],
      "execution_count": 0,
      "outputs": []
    },
    {
      "cell_type": "code",
      "metadata": {
        "id": "ajPM-vUtzgGV",
        "colab_type": "code",
        "outputId": "59219f0b-e2e1-4235-cc86-cd1aca74e3c7",
        "colab": {
          "base_uri": "https://localhost:8080/",
          "height": 129
        }
      },
      "source": [
        "for index, row in population_df.iterrows():\n",
        "  if index >1999:\n",
        "    population_"
      ],
      "execution_count": 0,
      "outputs": [
        {
          "output_type": "error",
          "ename": "SyntaxError",
          "evalue": "ignored",
          "traceback": [
            "\u001b[0;36m  File \u001b[0;32m\"<ipython-input-15-cc7e96c5fd24>\"\u001b[0;36m, line \u001b[0;32m1\u001b[0m\n\u001b[0;31m    for index, row in population_df.iterrows():\u001b[0m\n\u001b[0m                                               ^\u001b[0m\n\u001b[0;31mSyntaxError\u001b[0m\u001b[0;31m:\u001b[0m unexpected EOF while parsing\n"
          ]
        }
      ]
    },
    {
      "cell_type": "code",
      "metadata": {
        "id": "VyF_EfamzgNG",
        "colab_type": "code",
        "colab": {}
      },
      "source": [
        ""
      ],
      "execution_count": 0,
      "outputs": []
    },
    {
      "cell_type": "code",
      "metadata": {
        "id": "gMpe7GzZzgP-",
        "colab_type": "code",
        "colab": {}
      },
      "source": [
        ""
      ],
      "execution_count": 0,
      "outputs": []
    },
    {
      "cell_type": "code",
      "metadata": {
        "id": "xgpaNJEmzgSk",
        "colab_type": "code",
        "colab": {}
      },
      "source": [
        ""
      ],
      "execution_count": 0,
      "outputs": []
    },
    {
      "cell_type": "code",
      "metadata": {
        "id": "amGNcmblzgLM",
        "colab_type": "code",
        "colab": {}
      },
      "source": [
        ""
      ],
      "execution_count": 0,
      "outputs": []
    },
    {
      "cell_type": "code",
      "metadata": {
        "id": "WFqq3KD5zgJJ",
        "colab_type": "code",
        "colab": {}
      },
      "source": [
        ""
      ],
      "execution_count": 0,
      "outputs": []
    },
    {
      "cell_type": "code",
      "metadata": {
        "id": "MYWfTunOEkcz",
        "colab_type": "code",
        "outputId": "2ec677c0-c0af-4fcd-a615-34144021bb6d",
        "colab": {
          "base_uri": "https://localhost:8080/",
          "height": 397
        }
      },
      "source": [
        "from sklearn.metrics import confusion_matrix\n",
        "import itertools\n",
        "\n",
        "predicted_labels = model.predict(np.stack(test_features))\n",
        "cm = confusion_matrix(np.argmax(test_labels, axis=1), \n",
        "                      np.argmax(predicted_labels, axis=1))\n",
        "print('Confusion matrix:\\n',cm)\n",
        "\n",
        "cm = cm.astype('float') / cm.sum(axis = 1)[:, np.newaxis]\n",
        "\n",
        "plt.imshow(cm, cmap=plt.cm.Blues)\n",
        "plt.title('Normalized confusion matrix')\n",
        "plt.colorbar()\n",
        "plt.xlabel('True label')\n",
        "plt.ylabel('Predicted label')\n",
        "plt.xticks([0, 1]); plt.yticks([0, 1])\n",
        "plt.grid('off')\n",
        "for i, j in itertools.product(range(cm.shape[0]), range(cm.shape[1])):\n",
        "    plt.text(j, i, format(cm[i, j], '.2f'),\n",
        "             horizontalalignment='center',\n",
        "             color='white' if cm[i, j] > 0.5 else 'black')"
      ],
      "execution_count": 0,
      "outputs": [
        {
          "output_type": "stream",
          "text": [
            "Confusion matrix:\n",
            " [[248  11]\n",
            " [  0 241]]\n"
          ],
          "name": "stdout"
        },
        {
          "output_type": "stream",
          "text": [
            "/usr/local/lib/python3.6/dist-packages/matplotlib/cbook/__init__.py:424: MatplotlibDeprecationWarning: \n",
            "Passing one of 'on', 'true', 'off', 'false' as a boolean is deprecated; use an actual boolean (True/False) instead.\n",
            "  warn_deprecated(\"2.2\", \"Passing one of 'on', 'true', 'off', 'false' as a \"\n"
          ],
          "name": "stderr"
        },
        {
          "output_type": "display_data",
          "data": {
            "image/png": "[encoded data removed]",
            "text/plain": [
              "<Figure size 432x288 with 2 Axes>"
            ]
          },
          "metadata": {
            "tags": []
          }
        }
      ]
    },
    {
      "cell_type": "code",
      "metadata": {
        "id": "__4MsTGWEmVQ",
        "colab_type": "code",
        "colab": {}
      },
      "source": [
        "import tensorflow.keras.backend as K\n",
        "\n",
        "def compute_salient_bases(model, x):\n",
        "  input_tensors = [model.input]\n",
        "  gradients = model.optimizer.get_gradients(model.output[0][1], model.input)\n",
        "  compute_gradients = K.function(inputs = input_tensors, outputs = gradients)\n",
        "  \n",
        "  x_value = np.expand_dims(x, axis=0)\n",
        "  gradients = compute_gradients([x_value])[0][0]\n",
        "  sal = np.clip(np.sum(np.multiply(gradients,x), axis=1),a_min=0, a_max=None)\n",
        "  return sal"
      ],
      "execution_count": 0,
      "outputs": []
    },
    {
      "cell_type": "code",
      "metadata": {
        "id": "g8WAifJ_E0tY",
        "colab_type": "code",
        "outputId": "9eb2aac5-6376-4b56-913f-1a3308b115b2",
        "colab": {
          "base_uri": "https://localhost:8080/",
          "height": 350
        }
      },
      "source": [
        "sequence_index = 1999  # You can change this to compute the gradient for a different example. But if so, change the coloring below as well.\n",
        "sal = compute_salient_bases(model, input_features[sequence_index])\n",
        "\n",
        "plt.figure(figsize=[16,5])\n",
        "barlist = plt.bar(np.arange(len(sal)), sal)\n",
        "[barlist[i].set_color('C1') for i in range(5,17)]  # Change the coloring here if you change the sequence index.\n",
        "plt.xlabel('Bases')\n",
        "plt.ylabel('Magnitude of saliency values')\n",
        "plt.xticks(np.arange(len(sal)), list(sequences_list[sequence_index]));\n",
        "plt.title('Saliency map for bases in one of the positive sequences'\n",
        "          ' (green indicates the actual bases in motif)');"
      ],
      "execution_count": 0,
      "outputs": [
        {
          "output_type": "display_data",
          "data": {
            "image/png": "[encoded data removed]",
            "text/plain": [
              "<Figure size 1152x360 with 1 Axes>"
            ]
          },
          "metadata": {
            "tags": []
          }
        }
      ]
    },
    {
      "cell_type": "code",
      "metadata": {
        "id": "bXa7vi6zkDcc",
        "colab_type": "code",
        "outputId": "9f7734be-676b-459c-e498-10a069c9318b",
        "colab": {
          "base_uri": "https://localhost:8080/",
          "height": 34
        }
      },
      "source": [
        "len(population_df.Protein_seq.tolist()[0])"
      ],
      "execution_count": 0,
      "outputs": [
        {
          "output_type": "execute_result",
          "data": {
            "text/plain": [
              "50"
            ]
          },
          "metadata": {
            "tags": []
          },
          "execution_count": 15
        }
      ]
    },
    {
      "cell_type": "code",
      "metadata": {
        "id": "GxA_EJCpE15H",
        "colab_type": "code",
        "colab": {}
      },
      "source": [
        "import itertools\n",
        "\n",
        "def child_seq(parent_seq, proteins, mutations):\n",
        "    for locs in itertools.combinations(range(len(parent_seq)), mutations):\n",
        "        this_parent_seq = [[gene] for gene in parent_seq]\n",
        "        for loc in locs:\n",
        "            orig_gene = parent_seq[loc]\n",
        "            this_parent_seq[loc] = [l for l in proteins if l != orig_gene]\n",
        "        for poss in itertools.product(*this_parent_seq):\n",
        "            yield ''.join(poss)"
      ],
      "execution_count": 0,
      "outputs": []
    },
    {
      "cell_type": "code",
      "metadata": {
        "id": "UJg8ZH3mmbg5",
        "colab_type": "code",
        "colab": {}
      },
      "source": [
        "import random\n",
        "\n",
        "def mutate_v1(dna):\n",
        "    dna_list = list(dna)\n",
        "    mutation_site = random.randint(0, len(dna_list) - 1)\n",
        "    dna_list[mutation_site] = random.choice(list('ATCG'))\n",
        "    return ''.join(dna_list)"
      ],
      "execution_count": 0,
      "outputs": []
    },
    {
      "cell_type": "code",
      "metadata": {
        "id": "1yzyfsZDm5Ds",
        "colab_type": "code",
        "colab": {}
      },
      "source": [
        "def get_base_frequencies_v2(dna):\n",
        "        return {base: dna.count(base)/float(len(dna))\n",
        "                for base in 'ATGC'}\n",
        "def format_frequencies(frequencies):\n",
        "    return ', '.join(['%s: %.2f' % (base, frequencies[base])\n",
        "                      for base in frequencies])"
      ],
      "execution_count": 0,
      "outputs": []
    },
    {
      "cell_type": "code",
      "metadata": {
        "id": "qCoGBSKhozS2",
        "colab_type": "code",
        "outputId": "2997dc1e-3366-485d-aa00-78f9e477f371",
        "colab": {
          "base_uri": "https://localhost:8080/",
          "height": 85
        }
      },
      "source": [
        "dna = population_df['Protein_seq'].tolist()[0]\n",
        "print('Starting DNA:', dna)\n",
        "print(format_frequencies(get_base_frequencies_v2(dna)))\n",
        "\n",
        "nmutations = 10000\n",
        "for i in range(nmutations):\n",
        "    dna = mutate_v1(dna)\n",
        "\n",
        "print('DNA after %d mutations:' % nmutations, dna)\n",
        "print(format_frequencies(get_base_frequencies_v2(dna)))"
      ],
      "execution_count": 0,
      "outputs": [
        {
          "output_type": "stream",
          "text": [
            "Starting DNA: CCGAGGGCTATGGTTTGGAAGTTAGAACCCTGGGGCTTCTCGCGGACACC\n",
            "A: 0.18, T: 0.22, G: 0.34, C: 0.26\n",
            "DNA after 10000 mutations: ACTTATGCCGCTCTCAAGCCGGATGGATGCGAGAGGGCCTGACCTGGAAA\n",
            "A: 0.24, T: 0.18, G: 0.32, C: 0.26\n"
          ],
          "name": "stdout"
        }
      ]
    },
    {
      "cell_type": "code",
      "metadata": {
        "id": "VblT0pzkvekq",
        "colab_type": "code",
        "colab": {}
      },
      "source": [
        ""
      ],
      "execution_count": 0,
      "outputs": []
    }
  ]
}